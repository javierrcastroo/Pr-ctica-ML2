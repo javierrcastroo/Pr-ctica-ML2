{
  "cells": [
    {
      "cell_type": "markdown",
      "metadata": {
        "id": "UHieehEhbZFc"
      },
      "source": [
        "# 5 - Regresión lineal y logística"
      ],
      "id": "UHieehEhbZFc"
    },
    {
      "cell_type": "markdown",
      "metadata": {
        "id": "E9rxUliAbZFd"
      },
      "source": [
        "## Preparación del entorno\n"
      ],
      "id": "E9rxUliAbZFd"
    },
    {
      "cell_type": "code",
      "metadata": {
        "id": "eVSnnmnWbZFd"
      },
      "execution_count": null,
      "outputs": [],
      "source": [
        "import numpy as np\n",
        "import pandas as pd\n",
        "import matplotlib.pyplot as plt\n",
        "import seaborn as sns\n",
        "\n",
        "from sklearn.linear_model import LinearRegression, LogisticRegression\n",
        "from sklearn.preprocessing import PolynomialFeatures\n",
        "from sklearn.metrics import mean_squared_error, mean_absolute_error, r2_score, log_loss\n",
        "from sklearn.datasets import load_iris\n",
        "\n",
        "# Reproducibilidad\n",
        "np.random.seed(42)\n",
        "pd.set_option(\"display.precision\", 3)"
      ],
      "id": "eVSnnmnWbZFd"
    },
    {
      "cell_type": "markdown",
      "source": [
        "**Dataset 1**: `Iris`\n",
        "\n",
        "Se utilizará la variable numérica `petal length` como variable objetivo para realizar técnicas de regresión lineal."
      ],
      "metadata": {
        "id": "dyrZr4xQck58"
      },
      "id": "dyrZr4xQck58"
    },
    {
      "cell_type": "code",
      "source": [
        "iris = load_iris(as_frame=True)\n",
        "df_iris = pd.concat([iris.data, pd.Series(iris.target, name=\"target\")], axis=1)\n",
        "df_iris.rename(columns=lambda c: c.replace('(cm)', '').strip(), inplace=True)\n",
        "df_iris.head()"
      ],
      "metadata": {
        "collapsed": true,
        "id": "vPiTFJReeORs"
      },
      "id": "vPiTFJReeORs",
      "execution_count": null,
      "outputs": []
    },
    {
      "cell_type": "markdown",
      "source": [
        "**Dataset 2**: `Titanic`\n",
        "\n",
        "Se utilizará este dataset para predecir la  supervivencia (`survived`) mediante regresión logística."
      ],
      "metadata": {
        "id": "OSntzVqoesRU"
      },
      "id": "OSntzVqoesRU"
    },
    {
      "cell_type": "code",
      "source": [
        "# Carga de dataset\n",
        "df_titanic = sns.load_dataset('titanic')\n",
        "df_titanic.head(3)"
      ],
      "metadata": {
        "collapsed": true,
        "id": "Xx8vj76DgWDB"
      },
      "id": "Xx8vj76DgWDB",
      "execution_count": null,
      "outputs": []
    },
    {
      "cell_type": "code",
      "source": [
        "# Selección mínima de columnas y limpieza simple\n",
        "cols = ['survived', 'pclass', 'sex', 'age', 'sibsp', 'parch', 'fare', 'embarked']\n",
        "df_titanic = df_titanic[cols].copy()\n",
        "df_titanic = df_titanic.dropna(subset=cols)"
      ],
      "metadata": {
        "id": "MXWiybEqgfPj"
      },
      "id": "MXWiybEqgfPj",
      "execution_count": null,
      "outputs": []
    },
    {
      "cell_type": "code",
      "source": [
        "# One-Hot básico para 'sex' y 'embarked'\n",
        "# N-1 columnas generadas\n",
        "df_titanic = pd.get_dummies(df_titanic, columns=['sex', 'embarked'], drop_first=True)\n",
        "print('Dimensiones:', df_titanic.shape)\n",
        "df_titanic.head(3)"
      ],
      "metadata": {
        "id": "rL9MVd6uggyO"
      },
      "id": "rL9MVd6uggyO",
      "execution_count": null,
      "outputs": []
    },
    {
      "cell_type": "markdown",
      "metadata": {
        "id": "mvnJXtHSbZFf"
      },
      "source": [
        "## 1. Regresión lineal simple\n",
        "\n",
        "* **Característica(s)**: `sepal length`\n",
        "* **Variable objetivo**: `petal length`"
      ],
      "id": "mvnJXtHSbZFf"
    },
    {
      "cell_type": "code",
      "source": [
        "# Dividir el dataset de origen en X (conjunto de características) e y (variable objetivo)\n",
        "y = df_iris['petal length']\n",
        "X = df_iris[['sepal length']]"
      ],
      "metadata": {
        "id": "unnKr7Zohr1X"
      },
      "id": "unnKr7Zohr1X",
      "execution_count": null,
      "outputs": []
    },
    {
      "cell_type": "code",
      "source": [
        "# Realizar el ajuste/entrenamiento del modelo de regresión lineal simple\n",
        "lin1 = LinearRegression()\n",
        "lin1.fit(X, y)"
      ],
      "metadata": {
        "collapsed": true,
        "id": "RabMboYBh0fx"
      },
      "id": "RabMboYBh0fx",
      "execution_count": null,
      "outputs": []
    },
    {
      "cell_type": "code",
      "source": [
        "# Mostrar función resultante\n",
        "b0 = float(lin1.intercept_)\n",
        "b1 = float(lin1.coef_[0])\n",
        "print(f\"Modelo de regresión lineal simple:\\ny = {b0:.3f} (b0) + {b1:.3f} (b1) * sepal_length\")"
      ],
      "metadata": {
        "id": "nf7wOsZ7iKsw"
      },
      "id": "nf7wOsZ7iKsw",
      "execution_count": null,
      "outputs": []
    },
    {
      "cell_type": "code",
      "source": [
        "# Gráfico de dispersión + recta\n",
        "x_grid = np.linspace(X.min()[0], X.max()[0], 100).reshape(-1, 1)\n",
        "y_hat_grid = lin1.predict(x_grid)\n",
        "\n",
        "plt.figure(figsize=(6,4))\n",
        "plt.scatter(X, y)\n",
        "plt.plot(x_grid, y_hat_grid)\n",
        "plt.xlabel('sepal length')\n",
        "plt.ylabel('petal length')\n",
        "plt.title('Regresión lineal simple')\n",
        "plt.show()"
      ],
      "metadata": {
        "id": "NzJtnoAJiVMQ"
      },
      "id": "NzJtnoAJiVMQ",
      "execution_count": null,
      "outputs": []
    },
    {
      "cell_type": "code",
      "source": [
        "# Cálculo de métricas para descripción del rendimiento\n",
        "y_hat = lin1.predict(X)\n",
        "\n",
        "mse = mean_squared_error(y, y_hat)\n",
        "mae = mean_absolute_error(y, y_hat)\n",
        "r2  = r2_score(y, y_hat)\n",
        "\n",
        "print(f\"Error Medio Cuadrático - MSE = {mse:.3f}\")\n",
        "print(f\"Error Absoluto Medio - MAE = {mae:.3f}\")\n",
        "print(f\"R^2 = {r2:.3f}\\t(descripción, sin validación)\")"
      ],
      "metadata": {
        "id": "_E6P1TfYin_2"
      },
      "id": "_E6P1TfYin_2",
      "execution_count": null,
      "outputs": []
    },
    {
      "cell_type": "code",
      "source": [
        "# Visualización de los residuos\n",
        "resid = y - y_hat\n",
        "\n",
        "plt.figure(figsize=(12,4))\n",
        "plt.subplot(1, 2, 1)\n",
        "plt.scatter(y_hat, resid)\n",
        "plt.axhline(0)\n",
        "plt.xlabel('Predicción (y_hat)')\n",
        "plt.ylabel('Residuo (y - y_hat)')\n",
        "plt.title('Residuos vs predicción')\n",
        "\n",
        "plt.subplot(1, 2, 2)\n",
        "plt.hist(resid, bins=20)\n",
        "plt.xlabel('Residuo')\n",
        "plt.ylabel('Frecuencia')\n",
        "plt.title('Distribución de residuos')\n",
        "\n",
        "plt.tight_layout()\n",
        "plt.show()"
      ],
      "metadata": {
        "id": "kqPQ36a7izmY"
      },
      "id": "kqPQ36a7izmY",
      "execution_count": null,
      "outputs": []
    },
    {
      "cell_type": "markdown",
      "source": [
        "## 2. Regresión lineal multivariable\n",
        "\n",
        "* **Característica(s)**: `sepal length`, `sepal width` y `petal width`\n",
        "* **Variable objetivo**: `petal length`"
      ],
      "metadata": {
        "id": "NfCWovoZkKVb"
      },
      "id": "NfCWovoZkKVb"
    },
    {
      "cell_type": "code",
      "source": [
        "# Dividir el dataset de origen en Xm (conjunto de características) e ym (variable objetivo)\n",
        "features = ['sepal length', 'sepal width', 'petal width']\n",
        "Xm = df_iris[features]\n",
        "ym = df_iris['petal length']"
      ],
      "metadata": {
        "id": "CvSQErtEkUn2"
      },
      "id": "CvSQErtEkUn2",
      "execution_count": null,
      "outputs": []
    },
    {
      "cell_type": "code",
      "source": [
        "# Realizar el ajuste/entrenamiento del modelo de regresión lineal multivariable\n",
        "linm = LinearRegression()\n",
        "linm.fit(Xm, ym)"
      ],
      "metadata": {
        "id": "nXCc1CBpkXji"
      },
      "id": "nXCc1CBpkXji",
      "execution_count": null,
      "outputs": []
    },
    {
      "cell_type": "code",
      "source": [
        "# Calcular función resultante\n",
        "coefs = pd.DataFrame({'feature': features, 'coef': linm.coef_})\n",
        "\n",
        "function_str = f\"Modelo de regresión lineal multivariable:\\n\\ny = {linm.intercept_:.3f} (b0)\"\n",
        "for i, row in coefs.iterrows():\n",
        "    function_str += f\"\\n + {row['coef']:.3f} (b{i}) * {row['feature']} (x{i})\"\n",
        "print(function_str)"
      ],
      "metadata": {
        "id": "0fklfpSfkeYP"
      },
      "id": "0fklfpSfkeYP",
      "execution_count": null,
      "outputs": []
    },
    {
      "cell_type": "code",
      "source": [
        "# Cálculo de métricas para descripción del rendimiento\n",
        "yhat_m = linm.predict(Xm)\n",
        "\n",
        "mse_m = mean_squared_error(ym, yhat_m)\n",
        "mae_m = mean_absolute_error(ym, yhat_m)\n",
        "r2_m  = r2_score(ym, yhat_m)\n",
        "\n",
        "print(f\"Error Medio Cuadrático - MSE = {mse_m:.3f}\")\n",
        "print(f\"Error Absoluto Medio - MAE = {mae_m:.3f}\")\n",
        "print(f\"R^2 = {r2_m:.3f}\\t(descripción, sin validación)\")"
      ],
      "metadata": {
        "id": "JWzFLes6mAoH"
      },
      "id": "JWzFLes6mAoH",
      "execution_count": null,
      "outputs": []
    },
    {
      "cell_type": "code",
      "metadata": {
        "id": "rxjjG6KVbZFg"
      },
      "execution_count": null,
      "outputs": [],
      "source": [
        "# Visualización de los residuos\n",
        "resid_m = ym - yhat_m\n",
        "\n",
        "plt.figure(figsize=(6,4))\n",
        "plt.scatter(yhat_m, resid_m)\n",
        "plt.axhline(0)\n",
        "plt.xlabel('Predicción (y_hat)')\n",
        "plt.ylabel('Residuo')\n",
        "plt.title('Residuos vs predicción')\n",
        "plt.show()"
      ],
      "id": "rxjjG6KVbZFg"
    },
    {
      "cell_type": "markdown",
      "metadata": {
        "id": "Q8s8KGblbZFg"
      },
      "source": [
        "## 3. Regresión polinómica\n",
        "\n",
        "Si se sospecha que ocurre una dispersión con **curvatura**, se deben crear **términos no lineales**.\n",
        "\n",
        "Aquí se ilustra una polinómica de **grado 2** con `sepal length` y `petal width`."
      ],
      "id": "Q8s8KGblbZFg"
    },
    {
      "cell_type": "code",
      "source": [
        "# Dividir el dataset de origen en X (conjunto de características) e y (variable objetivo)\n",
        "# + Realizar el ajuste/entrenamiento del modelo de regresión \"lineal\" polinómico\n",
        "poly = PolynomialFeatures(degree=2, include_bias=False)\n",
        "X_poly = poly.fit_transform(df_iris[['sepal length', 'petal width']])\n",
        "lin_poly = LinearRegression().fit(X_poly, df_iris['petal length'])"
      ],
      "metadata": {
        "id": "4W3dlj2fwoCx"
      },
      "id": "4W3dlj2fwoCx",
      "execution_count": null,
      "outputs": []
    },
    {
      "cell_type": "code",
      "source": [
        "# Cálculo de métricas para descripción del rendimiento\n",
        "yhat_p = lin_poly.predict(X_poly)\n",
        "\n",
        "mse_p = mean_squared_error(df_iris['petal length'], yhat_p)\n",
        "mae_p = mean_absolute_error(df_iris['petal length'], yhat_p)\n",
        "r2_p  = r2_score(df_iris['petal length'], yhat_p)\n",
        "\n",
        "print(f\"Error Medio Cuadrático - MSE = {mse:.3f}\")\n",
        "print(f\"Error Absoluto Medio - MAE = {mae:.3f}\")\n",
        "print(f\"R^2 = {r2:.3f}\\t(descripción, sin validación)\")"
      ],
      "metadata": {
        "id": "xyhZalvbw3Kw"
      },
      "id": "xyhZalvbw3Kw",
      "execution_count": null,
      "outputs": []
    },
    {
      "cell_type": "code",
      "metadata": {
        "id": "1uEen0JibZFg"
      },
      "execution_count": null,
      "outputs": [],
      "source": [
        "# Visualización de los residuos\n",
        "resid_p = df_iris['petal length'] - yhat_p\n",
        "plt.figure(figsize=(6,4))\n",
        "plt.scatter(yhat_p, resid_p)\n",
        "plt.axhline(0)\n",
        "plt.xlabel('Predicción (y_hat)')\n",
        "plt.ylabel('Residuo')\n",
        "plt.title('Residuos vs predicción')\n",
        "plt.show()"
      ],
      "id": "1uEen0JibZFg"
    },
    {
      "cell_type": "markdown",
      "metadata": {
        "id": "E5vSF10mbZFg"
      },
      "source": [
        "## 4. Regresión logística\n",
        "\n",
        "* **Dataset**: `Titanic`\n",
        "* **Variable objetivo**: `survived`\n"
      ],
      "id": "E5vSF10mbZFg"
    },
    {
      "cell_type": "code",
      "source": [
        "# Dividir el dataset de origen en X_clf (conjunto de características) e y_clf (variable objetivo)\n",
        "y_clf = df_titanic['survived'].astype(int)\n",
        "X_clf = df_titanic.drop(columns=['survived'])"
      ],
      "metadata": {
        "id": "dctTvJDPxtfE"
      },
      "id": "dctTvJDPxtfE",
      "execution_count": null,
      "outputs": []
    },
    {
      "cell_type": "code",
      "source": [
        "# Realizar el ajuste/entrenamiento del modelo de regresión logística\n",
        "logreg = LogisticRegression(max_iter=1000, solver='lbfgs')\n",
        "logreg.fit(X_clf, y_clf)"
      ],
      "metadata": {
        "id": "7sTGPN9ByFaM"
      },
      "id": "7sTGPN9ByFaM",
      "execution_count": null,
      "outputs": []
    },
    {
      "cell_type": "code",
      "source": [
        "# Muestra de los resultados (en probabilidades)\n",
        "proba = logreg.predict_proba(X_clf)[:, 1]\n",
        "print(f\"Probabilidad [0,1] de target=1 por registro (5 primeros):\\n{proba[:5]}\")"
      ],
      "metadata": {
        "id": "Pu83iNf4yQVA"
      },
      "id": "Pu83iNf4yQVA",
      "execution_count": null,
      "outputs": []
    },
    {
      "cell_type": "code",
      "source": [
        "# Cálculo del logloss para descripción del rendimiento\n",
        "ll = log_loss(y_clf, proba)\n",
        "print(f'LogLoss (solo descriptivo): {ll:.4f}')"
      ],
      "metadata": {
        "id": "Lr_e3AlYyzQv"
      },
      "id": "Lr_e3AlYyzQv",
      "execution_count": null,
      "outputs": []
    },
    {
      "cell_type": "markdown",
      "source": [
        "**Interpretación de coeficientes como Odds Ratio**\n",
        "\n",
        "En regresión logística, los coeficientes ($\\beta$) se interpretan más fácilmente transformándolos en **Odds Ratios** (OR) mediante la función exponencial: $OR = e^{\\beta}$.\n",
        "\n",
        "El Odds Ratio representa el factor por el cual las *odds* de que ocurra el evento (en este caso, `survived=1`) cambian por cada unidad de aumento en la variable predictora, manteniendo el resto de variables constantes.\n",
        "\n",
        "*   **OR > 1**: Indica que un aumento en la característica está asociado con un **aumento** en las *odds* del evento.\n",
        "*   **OR < 1**: Indica que un aumento en la característica está asociado con una **disminución** en las *odds* del evento.\n",
        "*   **OR = 1**: Indica que la característica **no tiene efecto** en las *odds* del evento.\n",
        "\n",
        "Un OR de 2.0 significa que las odds del evento se duplican por cada unidad de aumento en la característica. Un OR de 0.5 significa que las odds del evento se reducen a la mitad por cada unidad de aumento en la característica."
      ],
      "metadata": {
        "id": "JNdEN4sezH67"
      },
      "id": "JNdEN4sezH67"
    },
    {
      "cell_type": "code",
      "source": [
        "# Interpretación básica de coeficientes como odds ratios\n",
        "or_table = pd.DataFrame({\n",
        "    'feature': X_clf.columns,\n",
        "    'coef': logreg.coef_.ravel(),\n",
        "})\n",
        "or_table['odds_ratio'] = np.exp(or_table['coef'])\n",
        "or_table.sort_values('odds_ratio', ascending=False, inplace=True)\n",
        "or_table"
      ],
      "metadata": {
        "id": "-Z35mGf2zCG9"
      },
      "id": "-Z35mGf2zCG9",
      "execution_count": null,
      "outputs": []
    },
    {
      "cell_type": "code",
      "metadata": {
        "id": "9tAC3BgCbZFh"
      },
      "execution_count": null,
      "outputs": [],
      "source": [
        "# Visualización histograma de probabilidades por clase real\n",
        "plt.figure(figsize=(6,4))\n",
        "plt.hist(proba[y_clf==1], bins=20, alpha=0.7, label='y=1')\n",
        "plt.hist(proba[y_clf==0], bins=20, alpha=0.7, label='y=0')\n",
        "plt.xlabel('Probabilidad predicha de Y=1')\n",
        "plt.ylabel('Frecuencia')\n",
        "plt.title('Distribución de probabilidades por clase real (visual)')\n",
        "plt.legend()\n",
        "plt.show()"
      ],
      "id": "9tAC3BgCbZFh"
    },
    {
      "cell_type": "markdown",
      "metadata": {
        "id": "vI1ANbBpbZFh"
      },
      "source": [
        "## Ejercicio\n",
        "\n",
        "1. Elige otro dataset real y **replica una regresión lineal y una logística**.\n",
        "2. **Experimenta** con los parámetros de las funciones y clases utilizadas, y observa sus efectos:\n",
        "\n",
        "    2.1. **Regresión lineal y polinómica**:\n",
        "    * `fit_intercept`\n",
        "    * `PolynomialFeatures`\n",
        "\n",
        "    2.2. **Regresión logística**:\n",
        "    * `penalty`\n",
        "    * `solver`"
      ],
      "id": "vI1ANbBpbZFh"
    },
    {
      "cell_type": "code",
      "source": [],
      "metadata": {
        "id": "Upw_xYdRm-yV"
      },
      "id": "Upw_xYdRm-yV",
      "execution_count": null,
      "outputs": []
    }
  ],
  "metadata": {
    "kernelspec": {
      "display_name": "Python 3",
      "language": "python",
      "name": "python3"
    },
    "language_info": {
      "name": "python",
      "version": "3.x"
    },
    "colab": {
      "provenance": []
    }
  },
  "nbformat": 4,
  "nbformat_minor": 5
}